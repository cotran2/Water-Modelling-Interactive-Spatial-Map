{
 "cells": [
  {
   "cell_type": "code",
   "execution_count": 11,
   "metadata": {
    "collapsed": true
   },
   "outputs": [],
   "source": [
    "import pandas as pd\n",
    "import numpy as np\n",
    "import geopandas as gpd\n",
    "from bokeh.plotting import figure, save, show\n",
    "import os\n",
    "# IMPORTANT NOTE: having difficulting writing the crs to shp using geopands to_file\n",
    "# Can do it manually using notepad++ though. WORK IN PROGRESS\n",
    "from shapely.geometry import Point\n",
    "import matplotlib.pyplot as plt\n",
    "%matplotlib inline\n",
    "import janmaps as jm # personal functions for mapping\n",
    "from bokeh.models import ColumnDataSource, HoverTool, LogColorMapper\n",
    "import pysal as ps\n",
    "from bokeh.palettes import RdYlGn10 as palette\n",
    "from bokeh.models import LogColorMapper\n",
    "import pysal as ps\n",
    "\n",
    "import plotly\n",
    "import plotly.plotly as py\n",
    "plotly.tools.set_credentials_file(username='XXX',api_key='XXX')\n",
    "from plotly.graph_objs import *\n",
    "plotly.offline.init_notebook_mode(connected=True)\n",
    "from bokeh.io import output_file, show\n",
    "from bokeh.models import (\n",
    "  GMapPlot, GMapOptions, ColumnDataSource, Circle, Range1d, PanTool, WheelZoomTool, BoxSelectTool\n",
    ")\n"
   ]
  },
  {
   "cell_type": "code",
   "execution_count": 4,
   "metadata": {
    "collapsed": true
   },
   "outputs": [],
   "source": [
    "# Create a Map instance\n",
    "m = folium.Map(location=[60.25, 24.8], tiles='Stamen Toner',\n",
    "                   zoom_start=10, control_scale=True)"
   ]
  },
  {
   "cell_type": "code",
   "execution_count": 20,
   "metadata": {
    "collapsed": true
   },
   "outputs": [],
   "source": [
    "m = folium.Map(location=[30.2672,-97.7431], tiles='Stamen Toner',\n",
    "                zoom_start=12, control_scale=True, prefer_canvas=True)"
   ]
  },
  {
   "cell_type": "code",
   "execution_count": 21,
   "metadata": {
    "collapsed": true
   },
   "outputs": [],
   "source": [
    "outfp = r'D:\\Documents\\ML\\Geo\\basemap.html'\n",
    "\n",
    "m.save(outfp)\n",
    "#show(m)"
   ]
  },
  {
   "cell_type": "code",
   "execution_count": null,
   "metadata": {
    "collapsed": true
   },
   "outputs": [],
   "source": []
  }
 ],
 "metadata": {
  "kernelspec": {
   "display_name": "Python 3",
   "language": "python",
   "name": "python3"
  },
  "language_info": {
   "codemirror_mode": {
    "name": "ipython",
    "version": 3
   },
   "file_extension": ".py",
   "mimetype": "text/x-python",
   "name": "python",
   "nbconvert_exporter": "python",
   "pygments_lexer": "ipython3",
   "version": "3.6.2"
  }
 },
 "nbformat": 4,
 "nbformat_minor": 2
}
