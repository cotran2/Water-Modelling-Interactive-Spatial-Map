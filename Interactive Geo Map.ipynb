{
 "cells": [
  {
   "cell_type": "code",
   "execution_count": 2,
   "metadata": {},
   "outputs": [
    {
     "data": {
      "text/html": [
       "<script>requirejs.config({paths: { 'plotly': ['https://cdn.plot.ly/plotly-latest.min']},});if(!window.Plotly) {{require(['plotly'],function(plotly) {window.Plotly=plotly;});}}</script>"
      ],
      "text/vnd.plotly.v1+html": [
       "<script>requirejs.config({paths: { 'plotly': ['https://cdn.plot.ly/plotly-latest.min']},});if(!window.Plotly) {{require(['plotly'],function(plotly) {window.Plotly=plotly;});}}</script>"
      ]
     },
     "metadata": {},
     "output_type": "display_data"
    }
   ],
   "source": [
    "import pandas as pd\n",
    "import numpy as np\n",
    "import geopandas as gpd\n",
    "from bokeh.plotting import figure, save\n",
    "import os\n",
    "# IMPORTANT NOTE: having difficulting writing the crs to shp using geopands to_file\n",
    "# Can do it manually using notepad++ though. WORK IN PROGRESS\n",
    "from shapely.geometry import Point\n",
    "import matplotlib.pyplot as plt\n",
    "%matplotlib inline\n",
    "import janmaps as jm # personal functions for mapping\n",
    "\n",
    "import plotly\n",
    "import plotly.plotly as py\n",
    "plotly.tools.set_credentials_file(username='XXX',api_key='XXX')\n",
    "from plotly.graph_objs import *\n",
    "plotly.offline.init_notebook_mode(connected=True)"
   ]
  },
  {
   "cell_type": "code",
   "execution_count": 5,
   "metadata": {},
   "outputs": [],
   "source": [
    "p = figure(title = 'My first interactive plot')\n",
    "AWU = gpd.read_file(r'D:\\Documents\\ML\\Geo\\shapefiles\\ServiceArea\\AWUServiceArea.shp')\n",
    "zpco = gpd.read_file(r'D:\\Documents\\ML\\Geo\\shapefiles\\zipcodes\\Austinzipcodes.shp')"
   ]
  },
  {
   "cell_type": "code",
   "execution_count": 20,
   "metadata": {
    "collapsed": true
   },
   "outputs": [],
   "source": [
    "df = pd.read_excel(r'D:\\Documents\\ML\\Geo\\Leaks_forCo.xlsx',sheet_name='Sheet1')"
   ]
  },
  {
   "cell_type": "code",
   "execution_count": 24,
   "metadata": {},
   "outputs": [],
   "source": [
    "coordX = df.X\n",
    "coordY = df.Y\n",
    "\n",
    "# Create geodataframe from data\n",
    "pts_geometry = [Point(xy) for xy in zip(coordX, coordY)]\n",
    "pts_crs = {'init':'epsg:4326'}\n",
    "points = gpd.GeoDataFrame(df, crs=pts_crs, geometry=pts_geometry)"
   ]
  },
  {
   "cell_type": "code",
   "execution_count": 17,
   "metadata": {
    "collapsed": true
   },
   "outputs": [],
   "source": [
    "def getPolyCoords(row, geom, coord_type):\n",
    "    \"\"\"Returns the coordinates ('x' or 'y') of edges of a Polygon exterior\"\"\"\n",
    "\n",
    "    # Parse the exterior of the coordinate\n",
    "    exterior = row[geom].exterior\n",
    "\n",
    "    if coord_type == 'x':\n",
    "        # Get the x coordinates of the exterior\n",
    "        return list( exterior.coords.xy[0] )\n",
    "    elif coord_type == 'y':\n",
    "        # Get the y coordinates of the exterior\n",
    "        return list( exterior.coords.xy[1] )"
   ]
  },
  {
   "cell_type": "code",
   "execution_count": 15,
   "metadata": {},
   "outputs": [
    {
     "name": "stdout",
     "output_type": "stream",
     "text": [
      "{'init': 'epsg:4326'}\n"
     ]
    }
   ],
   "source": [
    "CRS = AWU.crs\n",
    "print(CRS)"
   ]
  },
  {
   "cell_type": "code",
   "execution_count": 16,
   "metadata": {
    "collapsed": true
   },
   "outputs": [],
   "source": [
    "zpco['geometry'] = zpco['geometry'].to_crs(crs=CRS)"
   ]
  },
  {
   "cell_type": "code",
   "execution_count": 18,
   "metadata": {
    "collapsed": true
   },
   "outputs": [],
   "source": [
    "AWU['x'] = AWU.apply(getPolyCoords, geom='geometry', coord_type='x', axis=1)\n",
    "AWU['y'] = AWU.apply(getPolyCoords, geom='geometry', coord_type='y', axis=1)\n",
    "\n",
    "zpco['x'] = zpco.apply(getPolyCoords, geom='geometry', coord_type='x', axis=1)\n",
    "zpco['y'] = zpco.apply(getPolyCoords, geom='geometry', coord_type='y', axis=1)"
   ]
  },
  {
   "cell_type": "code",
   "execution_count": 37,
   "metadata": {},
   "outputs": [
    {
     "name": "stdout",
     "output_type": "stream",
     "text": [
      "<class 'geopandas.geodataframe.GeoDataFrame'>\n",
      "RangeIndex: 3885 entries, 0 to 3884\n",
      "Data columns (total 29 columns):\n",
      "HomeNo                3885 non-null int64\n",
      "SubAddress1           479 non-null object\n",
      "StName                3885 non-null object\n",
      "SubAddress2           3820 non-null object\n",
      "SubAddress3           275 non-null object\n",
      "City                  3884 non-null object\n",
      "ZIP                   3885 non-null int64\n",
      "AddressID             3885 non-null int64\n",
      "MapZone               1373 non-null object\n",
      "ObjectID              3885 non-null int64\n",
      "Y                     3885 non-null float64\n",
      "X                     3885 non-null float64\n",
      "ProblemDescription    3885 non-null object\n",
      "ServiceNo             1381 non-null float64\n",
      "WorkOrderNo           2263 non-null object\n",
      "ReportLeakTime        1381 non-null float64\n",
      "ReportLeakTime2       1381 non-null datetime64[ns]\n",
      "LeakInspectTime       1381 non-null float64\n",
      "LeakInspectTime2      1381 non-null datetime64[ns]\n",
      "LeakRepairedTime      3885 non-null int64\n",
      "LeakRepairedTime2     3885 non-null datetime64[ns]\n",
      "DaysElapsed           1381 non-null float64\n",
      "Week                  3885 non-null int64\n",
      "Month                 3885 non-null int64\n",
      "Year                  3885 non-null int64\n",
      "Bi-Week               3885 non-null int64\n",
      "DateOnly              3885 non-null object\n",
      "FullStName            3885 non-null object\n",
      "geometry              3885 non-null object\n",
      "dtypes: datetime64[ns](3), float64(6), int64(9), object(11)\n",
      "memory usage: 880.3+ KB\n"
     ]
    }
   ],
   "source": [
    "points.info()"
   ]
  },
  {
   "cell_type": "code",
   "execution_count": 34,
   "metadata": {
    "collapsed": true
   },
   "outputs": [],
   "source": [
    "from bokeh.palettes import RdYlBu11 as palette\n",
    "from bokeh.models import LogColorMapper\n",
    "from bokeh.models import ColumnDataSource, HoverTool, LogColorMapper# Create the color mapper\n",
    "color_mapper = LogColorMapper(palette=palette)"
   ]
  },
  {
   "cell_type": "code",
   "execution_count": 29,
   "metadata": {},
   "outputs": [
    {
     "data": {
      "text/plain": [
       "Text(0.5,1,'Points Data')"
      ]
     },
     "execution_count": 29,
     "metadata": {},
     "output_type": "execute_result"
    },
    {
     "data": {
      "image/png": "[encoded data removed]",
      "text/plain": [
       "<matplotlib.figure.Figure at 0x1828548a128>"
      ]
     },
     "metadata": {},
     "output_type": "display_data"
    }
   ],
   "source": [
    "#plt.plot(coordX, coordY, marker='o', color='C0', linestyle='None', markersize=2)\n",
    "fig, ax = plt.subplots(figsize=[4,4])\n",
    "points.plot(ax=ax, marker='o', markersize=2)\n",
    "plt.title('Points Data')"
   ]
  },
  {
   "cell_type": "code",
   "execution_count": 38,
   "metadata": {},
   "outputs": [],
   "source": [
    "zip_df = zpco.drop('geometry',axis =1).copy()\n",
    "zsource = ColumnDataSource(zip_df)\n",
    "AWU_df = AWU.drop('geometry',axis =1).copy()\n",
    "asource = ColumnDataSource(AWU_df)\n",
    "p_df = points.copy()\n",
    "psource = ColumnDataSource(p_df)"
   ]
  },
  {
   "cell_type": "code",
   "execution_count": 47,
   "metadata": {},
   "outputs": [
    {
     "name": "stderr",
     "output_type": "stream",
     "text": [
      "C:\\Users\\ASUS\\Anaconda3\\lib\\site-packages\\bokeh\\io\\saving.py:125: UserWarning:\n",
      "\n",
      "save() called but no resources were supplied and output_file(...) was never called, defaulting to resources.CDN\n",
      "\n",
      "C:\\Users\\ASUS\\Anaconda3\\lib\\site-packages\\bokeh\\io\\saving.py:138: UserWarning:\n",
      "\n",
      "save() called but no title was supplied and output_file(...) was never called, using default title 'Bokeh Plot'\n",
      "\n"
     ]
    },
    {
     "ename": "RuntimeError",
     "evalue": "Sub-model (id='11db63ad-323c-4013-a4da-a1de4f770783', ...) of the root model Figure(id='8346c71d-a954-484e-b5ff-02b252c17962', ...) is already owned by another document (Models must be owned by only a single document). This may indicate a usage error.",
     "output_type": "error",
     "traceback": [
      "\u001b[1;31m---------------------------------------------------------------------------\u001b[0m",
      "\u001b[1;31mRuntimeError\u001b[0m                              Traceback (most recent call last)",
      "\u001b[1;32m~\\Anaconda3\\lib\\site-packages\\bokeh\\embed\\standalone.py\u001b[0m in \u001b[0;36m_add_doc_to_models\u001b[1;34m(doc, models)\u001b[0m\n\u001b[0;32m    325\u001b[0m                 \u001b[1;32mtry\u001b[0m\u001b[1;33m:\u001b[0m\u001b[1;33m\u001b[0m\u001b[0m\n\u001b[1;32m--> 326\u001b[1;33m                     \u001b[0mdoc\u001b[0m\u001b[1;33m.\u001b[0m\u001b[0madd_root\u001b[0m\u001b[1;33m(\u001b[0m\u001b[0mmodel\u001b[0m\u001b[1;33m)\u001b[0m\u001b[1;33m\u001b[0m\u001b[0m\n\u001b[0m\u001b[0;32m    327\u001b[0m                     \u001b[0mmodels_to_dedoc\u001b[0m\u001b[1;33m.\u001b[0m\u001b[0mappend\u001b[0m\u001b[1;33m(\u001b[0m\u001b[0mmodel\u001b[0m\u001b[1;33m)\u001b[0m\u001b[1;33m\u001b[0m\u001b[0m\n",
      "\u001b[1;32m~\\Anaconda3\\lib\\site-packages\\bokeh\\document\\document.py\u001b[0m in \u001b[0;36madd_root\u001b[1;34m(self, model, setter)\u001b[0m\n\u001b[0;32m    242\u001b[0m         \u001b[1;32mfinally\u001b[0m\u001b[1;33m:\u001b[0m\u001b[1;33m\u001b[0m\u001b[0m\n\u001b[1;32m--> 243\u001b[1;33m             \u001b[0mself\u001b[0m\u001b[1;33m.\u001b[0m\u001b[0m_pop_all_models_freeze\u001b[0m\u001b[1;33m(\u001b[0m\u001b[1;33m)\u001b[0m\u001b[1;33m\u001b[0m\u001b[0m\n\u001b[0m\u001b[0;32m    244\u001b[0m         \u001b[0mself\u001b[0m\u001b[1;33m.\u001b[0m\u001b[0m_trigger_on_change\u001b[0m\u001b[1;33m(\u001b[0m\u001b[0mRootAddedEvent\u001b[0m\u001b[1;33m(\u001b[0m\u001b[0mself\u001b[0m\u001b[1;33m,\u001b[0m \u001b[0mmodel\u001b[0m\u001b[1;33m,\u001b[0m \u001b[0msetter\u001b[0m\u001b[1;33m)\u001b[0m\u001b[1;33m)\u001b[0m\u001b[1;33m\u001b[0m\u001b[0m\n",
      "\u001b[1;32m~\\Anaconda3\\lib\\site-packages\\bokeh\\document\\document.py\u001b[0m in \u001b[0;36m_pop_all_models_freeze\u001b[1;34m(self)\u001b[0m\n\u001b[0;32m    922\u001b[0m         \u001b[1;32mif\u001b[0m \u001b[0mself\u001b[0m\u001b[1;33m.\u001b[0m\u001b[0m_all_models_freeze_count\u001b[0m \u001b[1;33m==\u001b[0m \u001b[1;36m0\u001b[0m\u001b[1;33m:\u001b[0m\u001b[1;33m\u001b[0m\u001b[0m\n\u001b[1;32m--> 923\u001b[1;33m             \u001b[0mself\u001b[0m\u001b[1;33m.\u001b[0m\u001b[0m_recompute_all_models\u001b[0m\u001b[1;33m(\u001b[0m\u001b[1;33m)\u001b[0m\u001b[1;33m\u001b[0m\u001b[0m\n\u001b[0m\u001b[0;32m    924\u001b[0m \u001b[1;33m\u001b[0m\u001b[0m\n",
      "\u001b[1;32m~\\Anaconda3\\lib\\site-packages\\bokeh\\document\\document.py\u001b[0m in \u001b[0;36m_recompute_all_models\u001b[1;34m(self)\u001b[0m\n\u001b[0;32m    945\u001b[0m         \u001b[1;32mfor\u001b[0m \u001b[0ma\u001b[0m \u001b[1;32min\u001b[0m \u001b[0mto_attach\u001b[0m\u001b[1;33m:\u001b[0m\u001b[1;33m\u001b[0m\u001b[0m\n\u001b[1;32m--> 946\u001b[1;33m             \u001b[0ma\u001b[0m\u001b[1;33m.\u001b[0m\u001b[0m_attach_document\u001b[0m\u001b[1;33m(\u001b[0m\u001b[0mself\u001b[0m\u001b[1;33m)\u001b[0m\u001b[1;33m\u001b[0m\u001b[0m\n\u001b[0m\u001b[0;32m    947\u001b[0m         \u001b[0mself\u001b[0m\u001b[1;33m.\u001b[0m\u001b[0m_all_models\u001b[0m \u001b[1;33m=\u001b[0m \u001b[0mrecomputed\u001b[0m\u001b[1;33m\u001b[0m\u001b[0m\n",
      "\u001b[1;32m~\\Anaconda3\\lib\\site-packages\\bokeh\\model.py\u001b[0m in \u001b[0;36m_attach_document\u001b[1;34m(self, doc)\u001b[0m\n\u001b[0;32m    552\u001b[0m         \u001b[1;32mif\u001b[0m \u001b[0mself\u001b[0m\u001b[1;33m.\u001b[0m\u001b[0m_document\u001b[0m \u001b[1;32mis\u001b[0m \u001b[1;32mnot\u001b[0m \u001b[1;32mNone\u001b[0m \u001b[1;32mand\u001b[0m \u001b[0mself\u001b[0m\u001b[1;33m.\u001b[0m\u001b[0m_document\u001b[0m \u001b[1;32mis\u001b[0m \u001b[1;32mnot\u001b[0m \u001b[0mdoc\u001b[0m\u001b[1;33m:\u001b[0m\u001b[1;33m\u001b[0m\u001b[0m\n\u001b[1;32m--> 553\u001b[1;33m             \u001b[1;32mraise\u001b[0m \u001b[0mRuntimeError\u001b[0m\u001b[1;33m(\u001b[0m\u001b[1;34m\"Models must be owned by only a single document, %r is already in a doc\"\u001b[0m \u001b[1;33m%\u001b[0m \u001b[1;33m(\u001b[0m\u001b[0mself\u001b[0m\u001b[1;33m)\u001b[0m\u001b[1;33m)\u001b[0m\u001b[1;33m\u001b[0m\u001b[0m\n\u001b[0m\u001b[0;32m    554\u001b[0m         \u001b[0mdoc\u001b[0m\u001b[1;33m.\u001b[0m\u001b[0mtheme\u001b[0m\u001b[1;33m.\u001b[0m\u001b[0mapply_to_model\u001b[0m\u001b[1;33m(\u001b[0m\u001b[0mself\u001b[0m\u001b[1;33m)\u001b[0m\u001b[1;33m\u001b[0m\u001b[0m\n",
      "\u001b[1;31mRuntimeError\u001b[0m: Models must be owned by only a single document, LogColorMapper(id='11db63ad-323c-4013-a4da-a1de4f770783', ...) is already in a doc",
      "\nDuring handling of the above exception, another exception occurred:\n",
      "\u001b[1;31mRuntimeError\u001b[0m                              Traceback (most recent call last)",
      "\u001b[1;32m<ipython-input-47-0d4c06dadc1a>\u001b[0m in \u001b[0;36m<module>\u001b[1;34m()\u001b[0m\n\u001b[0;32m     15\u001b[0m \u001b[1;31m# Save the figure\u001b[0m\u001b[1;33m\u001b[0m\u001b[1;33m\u001b[0m\u001b[0m\n\u001b[0;32m     16\u001b[0m \u001b[0moutfp\u001b[0m \u001b[1;33m=\u001b[0m \u001b[1;34mr'D:\\Documents\\ML\\Geo\\a.html'\u001b[0m\u001b[1;33m\u001b[0m\u001b[0m\n\u001b[1;32m---> 17\u001b[1;33m \u001b[0msave\u001b[0m\u001b[1;33m(\u001b[0m\u001b[0mobj\u001b[0m\u001b[1;33m=\u001b[0m\u001b[0mp\u001b[0m\u001b[1;33m,\u001b[0m \u001b[0mfilename\u001b[0m\u001b[1;33m=\u001b[0m\u001b[0moutfp\u001b[0m\u001b[1;33m)\u001b[0m\u001b[1;33m\u001b[0m\u001b[0m\n\u001b[0m",
      "\u001b[1;32m~\\Anaconda3\\lib\\site-packages\\bokeh\\util\\api.py\u001b[0m in \u001b[0;36mwrapper\u001b[1;34m(*args, **kw)\u001b[0m\n\u001b[0;32m    188\u001b[0m         \u001b[1;33m@\u001b[0m\u001b[0mwraps\u001b[0m\u001b[1;33m(\u001b[0m\u001b[0mobj\u001b[0m\u001b[1;33m)\u001b[0m\u001b[1;33m\u001b[0m\u001b[0m\n\u001b[0;32m    189\u001b[0m         \u001b[1;32mdef\u001b[0m \u001b[0mwrapper\u001b[0m\u001b[1;33m(\u001b[0m\u001b[1;33m*\u001b[0m\u001b[0margs\u001b[0m\u001b[1;33m,\u001b[0m \u001b[1;33m**\u001b[0m\u001b[0mkw\u001b[0m\u001b[1;33m)\u001b[0m\u001b[1;33m:\u001b[0m\u001b[1;33m\u001b[0m\u001b[0m\n\u001b[1;32m--> 190\u001b[1;33m             \u001b[1;32mreturn\u001b[0m \u001b[0mobj\u001b[0m\u001b[1;33m(\u001b[0m\u001b[1;33m*\u001b[0m\u001b[0margs\u001b[0m\u001b[1;33m,\u001b[0m \u001b[1;33m**\u001b[0m\u001b[0mkw\u001b[0m\u001b[1;33m)\u001b[0m\u001b[1;33m\u001b[0m\u001b[0m\n\u001b[0m\u001b[0;32m    191\u001b[0m \u001b[1;33m\u001b[0m\u001b[0m\n\u001b[0;32m    192\u001b[0m         \u001b[0mwrapper\u001b[0m\u001b[1;33m.\u001b[0m\u001b[0m__bkversion__\u001b[0m \u001b[1;33m=\u001b[0m \u001b[0mversion\u001b[0m\u001b[1;33m\u001b[0m\u001b[0m\n",
      "\u001b[1;32m~\\Anaconda3\\lib\\site-packages\\bokeh\\io\\saving.py\u001b[0m in \u001b[0;36msave\u001b[1;34m(obj, filename, resources, title, state, **kwargs)\u001b[0m\n\u001b[0;32m     83\u001b[0m \u001b[1;33m\u001b[0m\u001b[0m\n\u001b[0;32m     84\u001b[0m     \u001b[0mfilename\u001b[0m\u001b[1;33m,\u001b[0m \u001b[0mresources\u001b[0m\u001b[1;33m,\u001b[0m \u001b[0mtitle\u001b[0m \u001b[1;33m=\u001b[0m \u001b[0m_get_save_args\u001b[0m\u001b[1;33m(\u001b[0m\u001b[0mstate\u001b[0m\u001b[1;33m,\u001b[0m \u001b[0mfilename\u001b[0m\u001b[1;33m,\u001b[0m \u001b[0mresources\u001b[0m\u001b[1;33m,\u001b[0m \u001b[0mtitle\u001b[0m\u001b[1;33m)\u001b[0m\u001b[1;33m\u001b[0m\u001b[0m\n\u001b[1;32m---> 85\u001b[1;33m     \u001b[0m_save_helper\u001b[0m\u001b[1;33m(\u001b[0m\u001b[0mobj\u001b[0m\u001b[1;33m,\u001b[0m \u001b[0mfilename\u001b[0m\u001b[1;33m,\u001b[0m \u001b[0mresources\u001b[0m\u001b[1;33m,\u001b[0m \u001b[0mtitle\u001b[0m\u001b[1;33m)\u001b[0m\u001b[1;33m\u001b[0m\u001b[0m\n\u001b[0m\u001b[0;32m     86\u001b[0m     \u001b[1;32mreturn\u001b[0m \u001b[0mabspath\u001b[0m\u001b[1;33m(\u001b[0m\u001b[0mfilename\u001b[0m\u001b[1;33m)\u001b[0m\u001b[1;33m\u001b[0m\u001b[0m\n\u001b[0;32m     87\u001b[0m \u001b[1;33m\u001b[0m\u001b[0m\n",
      "\u001b[1;32m~\\Anaconda3\\lib\\site-packages\\bokeh\\io\\saving.py\u001b[0m in \u001b[0;36m_save_helper\u001b[1;34m(obj, filename, resources, title)\u001b[0m\n\u001b[0;32m    145\u001b[0m     '''\n\u001b[0;32m    146\u001b[0m     \u001b[1;32mfrom\u001b[0m \u001b[1;33m.\u001b[0m\u001b[1;33m.\u001b[0m\u001b[0membed\u001b[0m \u001b[1;32mimport\u001b[0m \u001b[0mfile_html\u001b[0m\u001b[1;33m\u001b[0m\u001b[0m\n\u001b[1;32m--> 147\u001b[1;33m     \u001b[0mhtml\u001b[0m \u001b[1;33m=\u001b[0m \u001b[0mfile_html\u001b[0m\u001b[1;33m(\u001b[0m\u001b[0mobj\u001b[0m\u001b[1;33m,\u001b[0m \u001b[0mresources\u001b[0m\u001b[1;33m,\u001b[0m \u001b[0mtitle\u001b[0m\u001b[1;33m=\u001b[0m\u001b[0mtitle\u001b[0m\u001b[1;33m)\u001b[0m\u001b[1;33m\u001b[0m\u001b[0m\n\u001b[0m\u001b[0;32m    148\u001b[0m \u001b[1;33m\u001b[0m\u001b[0m\n\u001b[0;32m    149\u001b[0m     \u001b[1;32mwith\u001b[0m \u001b[0mio\u001b[0m\u001b[1;33m.\u001b[0m\u001b[0mopen\u001b[0m\u001b[1;33m(\u001b[0m\u001b[0mfilename\u001b[0m\u001b[1;33m,\u001b[0m \u001b[0mmode\u001b[0m\u001b[1;33m=\u001b[0m\u001b[1;34m\"w\"\u001b[0m\u001b[1;33m,\u001b[0m \u001b[0mencoding\u001b[0m\u001b[1;33m=\u001b[0m\u001b[1;34m\"utf-8\"\u001b[0m\u001b[1;33m)\u001b[0m \u001b[1;32mas\u001b[0m \u001b[0mf\u001b[0m\u001b[1;33m:\u001b[0m\u001b[1;33m\u001b[0m\u001b[0m\n",
      "\u001b[1;32m~\\Anaconda3\\lib\\site-packages\\bokeh\\util\\api.py\u001b[0m in \u001b[0;36mwrapper\u001b[1;34m(*args, **kw)\u001b[0m\n\u001b[0;32m    188\u001b[0m         \u001b[1;33m@\u001b[0m\u001b[0mwraps\u001b[0m\u001b[1;33m(\u001b[0m\u001b[0mobj\u001b[0m\u001b[1;33m)\u001b[0m\u001b[1;33m\u001b[0m\u001b[0m\n\u001b[0;32m    189\u001b[0m         \u001b[1;32mdef\u001b[0m \u001b[0mwrapper\u001b[0m\u001b[1;33m(\u001b[0m\u001b[1;33m*\u001b[0m\u001b[0margs\u001b[0m\u001b[1;33m,\u001b[0m \u001b[1;33m**\u001b[0m\u001b[0mkw\u001b[0m\u001b[1;33m)\u001b[0m\u001b[1;33m:\u001b[0m\u001b[1;33m\u001b[0m\u001b[0m\n\u001b[1;32m--> 190\u001b[1;33m             \u001b[1;32mreturn\u001b[0m \u001b[0mobj\u001b[0m\u001b[1;33m(\u001b[0m\u001b[1;33m*\u001b[0m\u001b[0margs\u001b[0m\u001b[1;33m,\u001b[0m \u001b[1;33m**\u001b[0m\u001b[0mkw\u001b[0m\u001b[1;33m)\u001b[0m\u001b[1;33m\u001b[0m\u001b[0m\n\u001b[0m\u001b[0;32m    191\u001b[0m \u001b[1;33m\u001b[0m\u001b[0m\n\u001b[0;32m    192\u001b[0m         \u001b[0mwrapper\u001b[0m\u001b[1;33m.\u001b[0m\u001b[0m__bkversion__\u001b[0m \u001b[1;33m=\u001b[0m \u001b[0mversion\u001b[0m\u001b[1;33m\u001b[0m\u001b[0m\n",
      "\u001b[1;32m~\\Anaconda3\\lib\\site-packages\\bokeh\\embed\\standalone.py\u001b[0m in \u001b[0;36mfile_html\u001b[1;34m(models, resources, title, template, template_variables, theme)\u001b[0m\n\u001b[0;32m    281\u001b[0m     \u001b[0mmodels\u001b[0m \u001b[1;33m=\u001b[0m \u001b[0mcheck_models_or_docs\u001b[0m\u001b[1;33m(\u001b[0m\u001b[0mmodels\u001b[0m\u001b[1;33m)\u001b[0m\u001b[1;33m\u001b[0m\u001b[0m\n\u001b[0;32m    282\u001b[0m \u001b[1;33m\u001b[0m\u001b[0m\n\u001b[1;32m--> 283\u001b[1;33m     \u001b[1;32mwith\u001b[0m \u001b[0m_ModelInDocument\u001b[0m\u001b[1;33m(\u001b[0m\u001b[0mmodels\u001b[0m\u001b[1;33m,\u001b[0m \u001b[0mapply_theme\u001b[0m\u001b[1;33m=\u001b[0m\u001b[0mtheme\u001b[0m\u001b[1;33m)\u001b[0m\u001b[1;33m:\u001b[0m\u001b[1;33m\u001b[0m\u001b[0m\n\u001b[0m\u001b[0;32m    284\u001b[0m         \u001b[1;33m(\u001b[0m\u001b[0mdocs_json\u001b[0m\u001b[1;33m,\u001b[0m \u001b[0mrender_items\u001b[0m\u001b[1;33m)\u001b[0m \u001b[1;33m=\u001b[0m \u001b[0mstandalone_docs_json_and_render_items\u001b[0m\u001b[1;33m(\u001b[0m\u001b[0mmodels\u001b[0m\u001b[1;33m)\u001b[0m\u001b[1;33m\u001b[0m\u001b[0m\n\u001b[0;32m    285\u001b[0m         \u001b[0mtitle\u001b[0m \u001b[1;33m=\u001b[0m \u001b[0m_title_from_models\u001b[0m\u001b[1;33m(\u001b[0m\u001b[0mmodels\u001b[0m\u001b[1;33m,\u001b[0m \u001b[0mtitle\u001b[0m\u001b[1;33m)\u001b[0m\u001b[1;33m\u001b[0m\u001b[0m\n",
      "\u001b[1;32m~\\Anaconda3\\lib\\contextlib.py\u001b[0m in \u001b[0;36m__enter__\u001b[1;34m(self)\u001b[0m\n\u001b[0;32m     79\u001b[0m     \u001b[1;32mdef\u001b[0m \u001b[0m__enter__\u001b[0m\u001b[1;33m(\u001b[0m\u001b[0mself\u001b[0m\u001b[1;33m)\u001b[0m\u001b[1;33m:\u001b[0m\u001b[1;33m\u001b[0m\u001b[0m\n\u001b[0;32m     80\u001b[0m         \u001b[1;32mtry\u001b[0m\u001b[1;33m:\u001b[0m\u001b[1;33m\u001b[0m\u001b[0m\n\u001b[1;32m---> 81\u001b[1;33m             \u001b[1;32mreturn\u001b[0m \u001b[0mnext\u001b[0m\u001b[1;33m(\u001b[0m\u001b[0mself\u001b[0m\u001b[1;33m.\u001b[0m\u001b[0mgen\u001b[0m\u001b[1;33m)\u001b[0m\u001b[1;33m\u001b[0m\u001b[0m\n\u001b[0m\u001b[0;32m     82\u001b[0m         \u001b[1;32mexcept\u001b[0m \u001b[0mStopIteration\u001b[0m\u001b[1;33m:\u001b[0m\u001b[1;33m\u001b[0m\u001b[0m\n\u001b[0;32m     83\u001b[0m             \u001b[1;32mraise\u001b[0m \u001b[0mRuntimeError\u001b[0m\u001b[1;33m(\u001b[0m\u001b[1;34m\"generator didn't yield\"\u001b[0m\u001b[1;33m)\u001b[0m \u001b[1;32mfrom\u001b[0m \u001b[1;32mNone\u001b[0m\u001b[1;33m\u001b[0m\u001b[0m\n",
      "\u001b[1;32m~\\Anaconda3\\lib\\site-packages\\bokeh\\embed\\standalone.py\u001b[0m in \u001b[0;36m_ModelInDocument\u001b[1;34m(models, apply_theme)\u001b[0m\n\u001b[0;32m    307\u001b[0m         \u001b[0mdoc\u001b[0m\u001b[1;33m.\u001b[0m\u001b[0mtheme\u001b[0m \u001b[1;33m=\u001b[0m \u001b[0mapply_theme\u001b[0m\u001b[1;33m\u001b[0m\u001b[0m\n\u001b[0;32m    308\u001b[0m \u001b[1;33m\u001b[0m\u001b[0m\n\u001b[1;32m--> 309\u001b[1;33m     \u001b[0mmodels_to_dedoc\u001b[0m \u001b[1;33m=\u001b[0m \u001b[0m_add_doc_to_models\u001b[0m\u001b[1;33m(\u001b[0m\u001b[0mdoc\u001b[0m\u001b[1;33m,\u001b[0m \u001b[0mmodels\u001b[0m\u001b[1;33m)\u001b[0m\u001b[1;33m\u001b[0m\u001b[0m\n\u001b[0m\u001b[0;32m    310\u001b[0m \u001b[1;33m\u001b[0m\u001b[0m\n\u001b[0;32m    311\u001b[0m     \u001b[1;32mif\u001b[0m \u001b[0msettings\u001b[0m\u001b[1;33m.\u001b[0m\u001b[0mperform_document_validation\u001b[0m\u001b[1;33m(\u001b[0m\u001b[1;33m)\u001b[0m\u001b[1;33m:\u001b[0m\u001b[1;33m\u001b[0m\u001b[0m\n",
      "\u001b[1;32m~\\Anaconda3\\lib\\site-packages\\bokeh\\embed\\standalone.py\u001b[0m in \u001b[0;36m_add_doc_to_models\u001b[1;34m(doc, models)\u001b[0m\n\u001b[0;32m    332\u001b[0m                            \u001b[1;34m'single document). This may indicate a usage '\u001b[0m\u001b[1;33m\u001b[0m\u001b[0m\n\u001b[0;32m    333\u001b[0m                            'error.'.format(child, model))\n\u001b[1;32m--> 334\u001b[1;33m                     \u001b[1;32mraise\u001b[0m \u001b[0mRuntimeError\u001b[0m\u001b[1;33m(\u001b[0m\u001b[0mmsg\u001b[0m\u001b[1;33m)\u001b[0m\u001b[1;33m\u001b[0m\u001b[0m\n\u001b[0m\u001b[0;32m    335\u001b[0m     \u001b[1;32mreturn\u001b[0m \u001b[0mmodels_to_dedoc\u001b[0m\u001b[1;33m\u001b[0m\u001b[0m\n\u001b[0;32m    336\u001b[0m \u001b[1;33m\u001b[0m\u001b[0m\n",
      "\u001b[1;31mRuntimeError\u001b[0m: Sub-model (id='11db63ad-323c-4013-a4da-a1de4f770783', ...) of the root model Figure(id='8346c71d-a954-484e-b5ff-02b252c17962', ...) is already owned by another document (Models must be owned by only a single document). This may indicate a usage error."
     ]
    }
   ],
   "source": [
    "p = figure(title=\"Travel times with Public transportation to Central Railway station\")\n",
    "\n",
    "# Plot grid\n",
    "p.patches('x', 'y', source=zsource,\n",
    "         fill_color={'field': 'pt_r_tt_ud', 'transform': color_mapper},\n",
    "         fill_alpha=1.0, line_color=\"black\", line_width=0.05)\n",
    "\n",
    "# Add metro on top of the same figure\n",
    "#p.multi_line('x', 'y', source=zsource, color=\"red\", line_width=2)\n",
    "\n",
    "# Add points on top (as black points)\n",
    "p.circle('x', 'y', size=3, source=psource, color=\"black\")\n",
    "\n",
    "\n",
    "# Save the figure\n",
    "outfp = r'D:\\Documents\\ML\\Geo\\a.html'\n",
    "save(obj=p, filename=outfp)"
   ]
  },
  {
   "cell_type": "code",
   "execution_count": null,
   "metadata": {
    "collapsed": true
   },
   "outputs": [],
   "source": []
  }
 ],
 "metadata": {
  "kernelspec": {
   "display_name": "Python 3",
   "language": "python",
   "name": "python3"
  },
  "language_info": {
   "codemirror_mode": {
    "name": "ipython",
    "version": 3
   },
   "file_extension": ".py",
   "mimetype": "text/x-python",
   "name": "python",
   "nbconvert_exporter": "python",
   "pygments_lexer": "ipython3",
   "version": "3.6.2"
  }
 },
 "nbformat": 4,
 "nbformat_minor": 2
}
